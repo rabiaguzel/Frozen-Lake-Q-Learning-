{
  "nbformat": 4,
  "nbformat_minor": 0,
  "metadata": {
    "colab": {
      "provenance": []
    },
    "kernelspec": {
      "name": "python3",
      "display_name": "Python 3"
    },
    "language_info": {
      "name": "python"
    }
  },
  "cells": [
    {
      "cell_type": "code",
      "source": [
        "pip install gymnasium"
      ],
      "metadata": {
        "colab": {
          "base_uri": "https://localhost:8080/"
        },
        "id": "-fWsb5D4TxER",
        "outputId": "0ff5f8c5-37ff-4316-ad94-802d34971600"
      },
      "execution_count": 138,
      "outputs": [
        {
          "output_type": "stream",
          "name": "stdout",
          "text": [
            "Requirement already satisfied: gymnasium in /usr/local/lib/python3.10/dist-packages (1.0.0)\n",
            "Requirement already satisfied: numpy>=1.21.0 in /usr/local/lib/python3.10/dist-packages (from gymnasium) (1.26.4)\n",
            "Requirement already satisfied: cloudpickle>=1.2.0 in /usr/local/lib/python3.10/dist-packages (from gymnasium) (3.1.0)\n",
            "Requirement already satisfied: typing-extensions>=4.3.0 in /usr/local/lib/python3.10/dist-packages (from gymnasium) (4.12.2)\n",
            "Requirement already satisfied: farama-notifications>=0.0.1 in /usr/local/lib/python3.10/dist-packages (from gymnasium) (0.0.4)\n"
          ]
        }
      ]
    },
    {
      "cell_type": "code",
      "execution_count": 139,
      "metadata": {
        "id": "VrVIlJmOKC9a"
      },
      "outputs": [],
      "source": [
        "import gymnasium\n",
        "import random\n",
        "import numpy as np\n",
        "from tqdm import tqdm\n",
        "import matplotlib.pyplot as plt"
      ]
    },
    {
      "cell_type": "code",
      "source": [
        "environment=gymnasium.make(\"FrozenLake-v1\",is_slippery=False,render_mode=\"ansi\")\n",
        "environment.reset()"
      ],
      "metadata": {
        "id": "VwpoQg4zLXG3",
        "colab": {
          "base_uri": "https://localhost:8080/"
        },
        "outputId": "cc2e5842-5b32-447c-d146-7ef804ca4621"
      },
      "execution_count": 149,
      "outputs": [
        {
          "output_type": "execute_result",
          "data": {
            "text/plain": [
              "(0, {'prob': 1})"
            ]
          },
          "metadata": {},
          "execution_count": 149
        }
      ]
    },
    {
      "cell_type": "code",
      "source": [
        "nb_states=environment.observation_space.n\n",
        "nb_actions=environment.action_space.n\n",
        "qtable=np.zeros((nb_states,nb_actions))"
      ],
      "metadata": {
        "id": "bmdDPJ9ZLqZk"
      },
      "execution_count": 150,
      "outputs": []
    },
    {
      "cell_type": "code",
      "source": [
        "episodes=1000#episode\n",
        "alpha=0.5#learning rate\n",
        "gama=0.9#discount rate\n",
        "outcomes=[]"
      ],
      "metadata": {
        "id": "ThmLOhHRToz2"
      },
      "execution_count": 151,
      "outputs": []
    },
    {
      "cell_type": "code",
      "source": [
        "qtable#agent's brain"
      ],
      "metadata": {
        "colab": {
          "base_uri": "https://localhost:8080/"
        },
        "id": "_i1vIGWAV_rO",
        "outputId": "438c935a-c99d-4cc2-ed14-1cbc721ed67c"
      },
      "execution_count": 152,
      "outputs": [
        {
          "output_type": "execute_result",
          "data": {
            "text/plain": [
              "array([[0., 0., 0., 0.],\n",
              "       [0., 0., 0., 0.],\n",
              "       [0., 0., 0., 0.],\n",
              "       [0., 0., 0., 0.],\n",
              "       [0., 0., 0., 0.],\n",
              "       [0., 0., 0., 0.],\n",
              "       [0., 0., 0., 0.],\n",
              "       [0., 0., 0., 0.],\n",
              "       [0., 0., 0., 0.],\n",
              "       [0., 0., 0., 0.],\n",
              "       [0., 0., 0., 0.],\n",
              "       [0., 0., 0., 0.],\n",
              "       [0., 0., 0., 0.],\n",
              "       [0., 0., 0., 0.],\n",
              "       [0., 0., 0., 0.],\n",
              "       [0., 0., 0., 0.]])"
            ]
          },
          "metadata": {},
          "execution_count": 152
        }
      ]
    },
    {
      "cell_type": "code",
      "source": [
        "#agent training\n",
        "for _ in tqdm(range(episodes)):\n",
        "    state,_=environment.reset()#success status of the agent\n",
        "    done=False\n",
        "    outcomes.append(\"Failure\")\n",
        "    while not done:#until the agent succeeds\n",
        "      if np.max(qtable[state])>0:\n",
        "        action=np.argmax(qtable[state])\n",
        "      else:\n",
        "        action = environment.action_space.sample()\n",
        "      new_state,reward,done,info,_=environment.step(action)\n",
        "\n",
        "      qtable[state,action]=qtable[state,action]+alpha*(reward+gama*np.max(qtable[new_state,:])-qtable[state,action])#update qtable\n",
        "      state=new_state\n",
        "      if reward:\n",
        "        outcomes[-1]=\"Success\""
      ],
      "metadata": {
        "colab": {
          "base_uri": "https://localhost:8080/"
        },
        "id": "t_Y1vf7wXh6r",
        "outputId": "21ada6c6-69ba-4bef-b03c-f8a2f401a9ca"
      },
      "execution_count": 153,
      "outputs": [
        {
          "output_type": "stream",
          "name": "stderr",
          "text": [
            "\n",
            "  0%|          | 0/1000 [00:00<?, ?it/s]\u001b[A\n",
            " 30%|██▉       | 299/1000 [00:00<00:00, 2987.65it/s]\u001b[A\n",
            " 62%|██████▏   | 618/1000 [00:00<00:00, 3104.94it/s]\u001b[A\n",
            "100%|██████████| 1000/1000 [00:00<00:00, 3096.01it/s]\n"
          ]
        }
      ]
    },
    {
      "cell_type": "code",
      "source": [
        "print(\" Qtable After Training:\\n\" , qtable)"
      ],
      "metadata": {
        "colab": {
          "base_uri": "https://localhost:8080/"
        },
        "id": "s-ynWywbcGH3",
        "outputId": "208406dd-43fc-4ee6-f233-cbf2a0edb012"
      },
      "execution_count": 154,
      "outputs": [
        {
          "output_type": "stream",
          "name": "stdout",
          "text": [
            " Qtable After Training:\n",
            " [[0.      0.      0.59049 0.     ]\n",
            " [0.      0.      0.6561  0.     ]\n",
            " [0.      0.729   0.      0.     ]\n",
            " [0.      0.      0.      0.     ]\n",
            " [0.      0.      0.      0.     ]\n",
            " [0.      0.      0.      0.     ]\n",
            " [0.      0.81    0.      0.     ]\n",
            " [0.      0.      0.      0.     ]\n",
            " [0.      0.      0.      0.     ]\n",
            " [0.      0.      0.      0.     ]\n",
            " [0.      0.9     0.      0.     ]\n",
            " [0.      0.      0.      0.     ]\n",
            " [0.      0.      0.      0.     ]\n",
            " [0.      0.      0.      0.     ]\n",
            " [0.      0.      1.      0.     ]\n",
            " [0.      0.      0.      0.     ]]\n"
          ]
        }
      ]
    },
    {
      "cell_type": "code",
      "source": [
        "import seaborn as sns\n",
        "plt.figure(figsize=(12, 8))\n",
        "sns.heatmap(qtable, annot=True, cmap=\"YlGnBu\", cbar=True)\n",
        "plt.title(\"Q-table Heatmap\")\n",
        "plt.xlabel(\"Actions\")\n",
        "plt.ylabel(\"States\")\n",
        "plt.show()"
      ],
      "metadata": {
        "colab": {
          "base_uri": "https://localhost:8080/",
          "height": 839
        },
        "id": "w1IUhAdpjQBb",
        "outputId": "66301d0d-4f13-4d51-c002-e2b09ac9eb23"
      },
      "execution_count": 163,
      "outputs": [
        {
          "output_type": "stream",
          "name": "stderr",
          "text": [
            "Exception ignored in: <function tqdm.__del__ at 0x7a94b01e3c70>\n",
            "Traceback (most recent call last):\n",
            "  File \"/usr/local/lib/python3.10/dist-packages/tqdm/std.py\", line 1148, in __del__\n",
            "    self.close()\n",
            "  File \"/usr/local/lib/python3.10/dist-packages/tqdm/std.py\", line 1277, in close\n",
            "    if self.last_print_t < self.start_t + self.delay:\n",
            "AttributeError: 'tqdm' object has no attribute 'last_print_t'\n"
          ]
        },
        {
          "output_type": "display_data",
          "data": {
            "text/plain": [
              "<Figure size 1200x800 with 2 Axes>"
            ],
            "image/png": "[encoded data removed]"
          },
          "metadata": {}
        }
      ]
    },
    {
      "cell_type": "code",
      "source": [
        "plt.bar(range(episodes),outcomes)"
      ],
      "metadata": {
        "colab": {
          "base_uri": "https://localhost:8080/",
          "height": 447
        },
        "id": "N8cYANV3cL8L",
        "outputId": "dd979aba-f0d2-442e-c002-d4e8f4b51464"
      },
      "execution_count": 155,
      "outputs": [
        {
          "output_type": "execute_result",
          "data": {
            "text/plain": [
              "<BarContainer object of 1000 artists>"
            ]
          },
          "metadata": {},
          "execution_count": 155
        },
        {
          "output_type": "display_data",
          "data": {
            "text/plain": [
              "<Figure size 640x480 with 1 Axes>"
            ],
            "image/png": "[encoded data removed]"
          },
          "metadata": {}
        }
      ]
    },
    {
      "cell_type": "code",
      "source": [
        "#test\n",
        "episodes=100\n",
        "nb_success=0\n",
        "for _ in tqdm(range(episodes)):\n",
        "  state,_=environment.reset()\n",
        "  done=False\n",
        "  while not done:\n",
        "    if np.max(qtable[state])>0:\n",
        "      action=np.argmax(qtable[state])\n",
        "    else:\n",
        "      action = environment.action_space.sample()\n",
        "    new_state,reward,done,info,_=environment.step(action)\n",
        "    state=new_state\n",
        "    nb_success+=reward\n",
        "print(\"\\nSuccess Rate: \",100*nb_success/episodes)"
      ],
      "metadata": {
        "colab": {
          "base_uri": "https://localhost:8080/"
        },
        "id": "P5hHU_1ifGwP",
        "outputId": "dfdc7cdc-cdd6-47e7-fa36-b30e9872efd3"
      },
      "execution_count": 157,
      "outputs": [
        {
          "output_type": "stream",
          "name": "stderr",
          "text": [
            "/usr/local/lib/python3.10/dist-packages/ipykernel/ipkernel.py:283: DeprecationWarning: `should_run_async` will not call `transform_cell` automatically in the future. Please pass the result to `transformed_cell` argument and any exception that happen during thetransform in `preprocessing_exc_tuple` in IPython 7.17 and above.\n",
            "  and should_run_async(code)\n",
            "\n",
            "100%|██████████| 100/100 [00:00<00:00, 4817.72it/s]"
          ]
        },
        {
          "output_type": "stream",
          "name": "stdout",
          "text": [
            "\n",
            "Success Rate:  100.0\n"
          ]
        },
        {
          "output_type": "stream",
          "name": "stderr",
          "text": [
            "\n"
          ]
        }
      ]
    }
  ]
}